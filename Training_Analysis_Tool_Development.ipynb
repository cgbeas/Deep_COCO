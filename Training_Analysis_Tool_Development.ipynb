{
 "cells": [
  {
   "cell_type": "code",
   "execution_count": 2,
   "metadata": {
    "collapsed": false
   },
   "outputs": [],
   "source": [
    "import numpy as np\n",
    "import pandas as pd\n",
    "import matplotlib.pyplot as plt\n",
    "import seaborn as sns\n",
    "import re\n",
    "\n",
    "%matplotlib inline"
   ]
  },
  {
   "cell_type": "code",
   "execution_count": 1,
   "metadata": {
    "collapsed": false
   },
   "outputs": [],
   "source": [
    "log_file = './analysis_log.txt'\n",
    "\n",
    "metrics_dict = {\n",
    "    'loss' : [],\n",
    "    'rpn_class_loss' : [],\n",
    "    'rpn_bbox_loss' : [],\n",
    "    'mrcnn_class_loss' : [],\n",
    "    'mrcnn_bbox_loss' : [],\n",
    "    'mrcnn_mask_loss' : []\n",
    "}\n",
    "\n",
    "count = 0\n",
    "\n",
    "with open(log_file, 'r') as file:\n",
    "    for line in file:\n",
    "        #print(line)\n",
    "        fields = line.split(' ')\n",
    "        try:\n",
    "            if(fields[9] == 'loss:'): continue\n",
    "            else:\n",
    "                try:\n",
    "                    metrics_dict['loss'].append(float(fields[9]))\n",
    "                    metrics_dict['rpn_class_loss'].append(float(fields[12]))\n",
    "                    metrics_dict['rpn_bbox_loss'].append(float(fields[15]))\n",
    "                    metrics_dict['mrcnn_class_loss'].append(float(fields[18]))\n",
    "                    metrics_dict['mrcnn_bbox_loss'].append(float(fields[21]))\n",
    "                    metrics_dict['mrcnn_mask_loss'].append(float(fields[24]))\n",
    "                except:\n",
    "                    continue\n",
    "        except:\n",
    "            continue\n",
    "        \n",
    "        if(count == 100):\n",
    "            break;\n",
    "        else:\n",
    "            count += count\n",
    "        \n",
    "                    \n",
    "                "
   ]
  },
  {
   "cell_type": "code",
   "execution_count": 10,
   "metadata": {
    "collapsed": false
   },
   "outputs": [],
   "source": [
    "log_file = './stuff_train_log.txt'\n",
    "\n",
    "metrics_dict = {\n",
    "    'loss' : [],\n",
    "    'rpn_class_loss' : [],\n",
    "    'rpn_bbox_loss' : [],\n",
    "    'mrcnn_class_loss' : [],\n",
    "    'mrcnn_bbox_loss' : [],\n",
    "    'mrcnn_mask_loss' : []\n",
    "}\n",
    "\n",
    "val_metrics_dict = {\n",
    "    'loss' : [],\n",
    "    'rpn_class_loss' : [],\n",
    "    'rpn_bbox_loss' : [],\n",
    "    'mrcnn_class_loss' : [],\n",
    "    'mrcnn_bbox_loss' : [],\n",
    "    'mrcnn_mask_loss' : [],\n",
    "    'val_loss' : [],\n",
    "    'val_rpn_class_loss' : [],\n",
    "    'val_rpn_bbox_loss' : [],\n",
    "    'val_mrcnn_class_loss' : [],\n",
    "    'val_mrcnn_bbox_loss' : [],\n",
    "    'val_mrcnn_mask_loss' : []\n",
    "}\n",
    "\n",
    "with open(log_file, 'r') as file:\n",
    "    for line in file:\n",
    "        #loss: 3.8000\n",
    "        matches = re.findall('(\\d+\\.\\d+)', line)\n",
    "        \n",
    "        if(len(matches) == 6):\n",
    "            metrics_dict['loss'].append(float(matches[0]))\n",
    "            metrics_dict['rpn_class_loss'].append(float(matches[1]))\n",
    "            metrics_dict['rpn_bbox_loss'].append(float(matches[2]))\n",
    "            metrics_dict['mrcnn_class_loss'].append(float(matches[3]))\n",
    "            metrics_dict['mrcnn_bbox_loss'].append(float(matches[4]))\n",
    "            metrics_dict['mrcnn_mask_loss'].append(float(matches[5]))\n",
    "        elif(len(matches) == 12):\n",
    "            val_metrics_dict['loss'].append(float(matches[0]))\n",
    "            val_metrics_dict['rpn_class_loss'].append(float(matches[1]))\n",
    "            val_metrics_dict['rpn_bbox_loss'].append(float(matches[2]))\n",
    "            val_metrics_dict['mrcnn_class_loss'].append(float(matches[3]))\n",
    "            val_metrics_dict['mrcnn_bbox_loss'].append(float(matches[4]))\n",
    "            val_metrics_dict['mrcnn_mask_loss'].append(float(matches[5]))\n",
    "            val_metrics_dict['val_loss'].append(float(matches[6]))\n",
    "            val_metrics_dict['val_rpn_class_loss'].append(float(matches[7]))\n",
    "            val_metrics_dict['val_rpn_bbox_loss'].append(float(matches[8]))\n",
    "            val_metrics_dict['val_mrcnn_class_loss'].append(float(matches[9]))\n",
    "            val_metrics_dict['val_mrcnn_bbox_loss'].append(float(matches[10]))\n",
    "            val_metrics_dict['val_mrcnn_mask_loss'].append(float(matches[11]))\n",
    "\n"
   ]
  },
  {
   "cell_type": "code",
   "execution_count": 11,
   "metadata": {
    "collapsed": false
   },
   "outputs": [
    {
     "name": "stdout",
     "output_type": "stream",
     "text": [
      "90420\n",
      "90420\n"
     ]
    }
   ],
   "source": [
    "r = np.arange(0, len(metrics_dict['mrcnn_mask_loss']))\n",
    "print(len(r))\n",
    "print(len(metrics_dict['loss']))\n"
   ]
  },
  {
   "cell_type": "code",
   "execution_count": 12,
   "metadata": {
    "collapsed": false
   },
   "outputs": [
    {
     "name": "stdout",
     "output_type": "stream",
     "text": [
      "     loss  mrcnn_bbox_loss  mrcnn_class_loss  mrcnn_mask_loss  rpn_bbox_loss  \\\n",
      "0  3.8000           0.5728            0.5945           0.6630         0.9998   \n",
      "1  4.3318           0.6338            0.9076           0.6376         1.1639   \n",
      "2  4.4398           0.6740            1.0567           0.6521         1.0646   \n",
      "3  4.3901           0.6688            1.0506           0.6382         1.0453   \n",
      "4  4.2871           0.6742            0.9830           0.6469         1.0002   \n",
      "\n",
      "   rpn_class_loss  \n",
      "0          0.0230  \n",
      "1          0.0417  \n",
      "2          0.0452  \n",
      "3          0.0401  \n",
      "4          0.0357  \n"
     ]
    }
   ],
   "source": [
    "analysis_df = pd.DataFrame(metrics_dict, index=r)\n",
    "print(analysis_df.head())"
   ]
  },
  {
   "cell_type": "code",
   "execution_count": 13,
   "metadata": {
    "collapsed": false
   },
   "outputs": [
    {
     "data": {
      "text/plain": [
       "<matplotlib.axes._subplots.AxesSubplot at 0x10e554828>"
      ]
     },
     "execution_count": 13,
     "metadata": {},
     "output_type": "execute_result"
    },
    {
     "data": {
      "image/png": "[encoded data removed]",
      "text/plain": [
       "<matplotlib.figure.Figure at 0x10e526f28>"
      ]
     },
     "metadata": {},
     "output_type": "display_data"
    }
   ],
   "source": [
    "analysis_df.plot()"
   ]
  },
  {
   "cell_type": "code",
   "execution_count": 14,
   "metadata": {
    "collapsed": false
   },
   "outputs": [
    {
     "name": "stdout",
     "output_type": "stream",
     "text": [
      "90\n",
      "90\n"
     ]
    }
   ],
   "source": [
    "r = np.arange(0, len(val_metrics_dict['val_loss']))\n",
    "print(len(r))\n",
    "print(len(val_metrics_dict['val_loss']))\n"
   ]
  },
  {
   "cell_type": "code",
   "execution_count": 15,
   "metadata": {
    "collapsed": false
   },
   "outputs": [
    {
     "data": {
      "text/html": [
       "<div>\n",
       "<style>\n",
       "    .dataframe thead tr:only-child th {\n",
       "        text-align: right;\n",
       "    }\n",
       "\n",
       "    .dataframe thead th {\n",
       "        text-align: left;\n",
       "    }\n",
       "\n",
       "    .dataframe tbody tr th {\n",
       "        vertical-align: top;\n",
       "    }\n",
       "</style>\n",
       "<table border=\"1\" class=\"dataframe\">\n",
       "  <thead>\n",
       "    <tr style=\"text-align: right;\">\n",
       "      <th></th>\n",
       "      <th>loss</th>\n",
       "      <th>mrcnn_bbox_loss</th>\n",
       "      <th>mrcnn_class_loss</th>\n",
       "      <th>mrcnn_mask_loss</th>\n",
       "      <th>rpn_bbox_loss</th>\n",
       "      <th>rpn_class_loss</th>\n",
       "      <th>val_loss</th>\n",
       "      <th>val_mrcnn_bbox_loss</th>\n",
       "      <th>val_mrcnn_class_loss</th>\n",
       "      <th>val_mrcnn_mask_loss</th>\n",
       "      <th>val_rpn_bbox_loss</th>\n",
       "      <th>val_rpn_class_loss</th>\n",
       "    </tr>\n",
       "  </thead>\n",
       "  <tbody>\n",
       "    <tr>\n",
       "      <th>0</th>\n",
       "      <td>4.3377</td>\n",
       "      <td>0.6157</td>\n",
       "      <td>1.0948</td>\n",
       "      <td>0.6170</td>\n",
       "      <td>1.0232</td>\n",
       "      <td>0.0413</td>\n",
       "      <td>4.9677</td>\n",
       "      <td>0.5687</td>\n",
       "      <td>1.0618</td>\n",
       "      <td>0.5196</td>\n",
       "      <td>1.8220</td>\n",
       "      <td>0.0513</td>\n",
       "    </tr>\n",
       "    <tr>\n",
       "      <th>1</th>\n",
       "      <td>4.1893</td>\n",
       "      <td>0.5887</td>\n",
       "      <td>1.0752</td>\n",
       "      <td>0.5869</td>\n",
       "      <td>0.9568</td>\n",
       "      <td>0.0388</td>\n",
       "      <td>5.4229</td>\n",
       "      <td>0.4733</td>\n",
       "      <td>0.9220</td>\n",
       "      <td>0.4937</td>\n",
       "      <td>2.5449</td>\n",
       "      <td>0.0476</td>\n",
       "    </tr>\n",
       "    <tr>\n",
       "      <th>2</th>\n",
       "      <td>4.0778</td>\n",
       "      <td>0.5683</td>\n",
       "      <td>1.0437</td>\n",
       "      <td>0.5568</td>\n",
       "      <td>0.9302</td>\n",
       "      <td>0.0386</td>\n",
       "      <td>5.6214</td>\n",
       "      <td>0.5531</td>\n",
       "      <td>1.1741</td>\n",
       "      <td>0.4874</td>\n",
       "      <td>2.4227</td>\n",
       "      <td>0.0453</td>\n",
       "    </tr>\n",
       "    <tr>\n",
       "      <th>3</th>\n",
       "      <td>4.0256</td>\n",
       "      <td>0.5611</td>\n",
       "      <td>1.0488</td>\n",
       "      <td>0.5384</td>\n",
       "      <td>0.9028</td>\n",
       "      <td>0.0373</td>\n",
       "      <td>4.4487</td>\n",
       "      <td>0.4776</td>\n",
       "      <td>0.9717</td>\n",
       "      <td>0.4882</td>\n",
       "      <td>1.5199</td>\n",
       "      <td>0.0555</td>\n",
       "    </tr>\n",
       "    <tr>\n",
       "      <th>4</th>\n",
       "      <td>3.9936</td>\n",
       "      <td>0.5425</td>\n",
       "      <td>1.0492</td>\n",
       "      <td>0.5228</td>\n",
       "      <td>0.9086</td>\n",
       "      <td>0.0361</td>\n",
       "      <td>4.7774</td>\n",
       "      <td>0.5167</td>\n",
       "      <td>1.1142</td>\n",
       "      <td>0.4017</td>\n",
       "      <td>1.7560</td>\n",
       "      <td>0.0559</td>\n",
       "    </tr>\n",
       "  </tbody>\n",
       "</table>\n",
       "</div>"
      ],
      "text/plain": [
       "     loss  mrcnn_bbox_loss  mrcnn_class_loss  mrcnn_mask_loss  rpn_bbox_loss  \\\n",
       "0  4.3377           0.6157            1.0948           0.6170         1.0232   \n",
       "1  4.1893           0.5887            1.0752           0.5869         0.9568   \n",
       "2  4.0778           0.5683            1.0437           0.5568         0.9302   \n",
       "3  4.0256           0.5611            1.0488           0.5384         0.9028   \n",
       "4  3.9936           0.5425            1.0492           0.5228         0.9086   \n",
       "\n",
       "   rpn_class_loss  val_loss  val_mrcnn_bbox_loss  val_mrcnn_class_loss  \\\n",
       "0          0.0413    4.9677               0.5687                1.0618   \n",
       "1          0.0388    5.4229               0.4733                0.9220   \n",
       "2          0.0386    5.6214               0.5531                1.1741   \n",
       "3          0.0373    4.4487               0.4776                0.9717   \n",
       "4          0.0361    4.7774               0.5167                1.1142   \n",
       "\n",
       "   val_mrcnn_mask_loss  val_rpn_bbox_loss  val_rpn_class_loss  \n",
       "0               0.5196             1.8220              0.0513  \n",
       "1               0.4937             2.5449              0.0476  \n",
       "2               0.4874             2.4227              0.0453  \n",
       "3               0.4882             1.5199              0.0555  \n",
       "4               0.4017             1.7560              0.0559  "
      ]
     },
     "execution_count": 15,
     "metadata": {},
     "output_type": "execute_result"
    }
   ],
   "source": [
    "val_analysis_df = pd.DataFrame(val_metrics_dict, index=r)\n",
    "val_analysis_df.head()"
   ]
  },
  {
   "cell_type": "code",
   "execution_count": 16,
   "metadata": {
    "collapsed": false
   },
   "outputs": [
    {
     "data": {
      "text/plain": [
       "<matplotlib.axes._subplots.AxesSubplot at 0x11068f198>"
      ]
     },
     "execution_count": 16,
     "metadata": {},
     "output_type": "execute_result"
    },
    {
     "data": {
      "image/png": "[encoded data removed]",
      "text/plain": [
       "<matplotlib.figure.Figure at 0x1119167f0>"
      ]
     },
     "metadata": {},
     "output_type": "display_data"
    }
   ],
   "source": [
    "val_analysis_df.plot()"
   ]
  },
  {
   "cell_type": "code",
   "execution_count": 19,
   "metadata": {
    "collapsed": false
   },
   "outputs": [
    {
     "data": {
      "text/plain": [
       "loss                     9.751888\n",
       "mrcnn_bbox_loss          0.437418\n",
       "mrcnn_class_loss         0.917059\n",
       "mrcnn_mask_loss          0.416110\n",
       "rpn_bbox_loss            0.749942\n",
       "rpn_class_loss           0.029718\n",
       "val_loss                10.665997\n",
       "val_mrcnn_bbox_loss      0.470844\n",
       "val_mrcnn_class_loss     0.939800\n",
       "val_mrcnn_mask_loss      0.362213\n",
       "val_rpn_bbox_loss        1.654849\n",
       "val_rpn_class_loss       0.037792\n",
       "dtype: float64"
      ]
     },
     "execution_count": 19,
     "metadata": {},
     "output_type": "execute_result"
    }
   ],
   "source": [
    "val_analysis_df.mean()"
   ]
  },
  {
   "cell_type": "code",
   "execution_count": 21,
   "metadata": {
    "collapsed": false
   },
   "outputs": [
    {
     "data": {
      "text/plain": [
       "loss                    14.0327\n",
       "mrcnn_bbox_loss          0.3925\n",
       "mrcnn_class_loss         0.8361\n",
       "mrcnn_mask_loss          0.3727\n",
       "rpn_bbox_loss            0.6334\n",
       "rpn_class_loss           0.0245\n",
       "val_loss                14.6556\n",
       "val_mrcnn_bbox_loss      0.3321\n",
       "val_mrcnn_class_loss     0.5674\n",
       "val_mrcnn_mask_loss      0.2648\n",
       "val_rpn_bbox_loss        1.3109\n",
       "val_rpn_class_loss       0.0249\n",
       "dtype: float64"
      ]
     },
     "execution_count": 21,
     "metadata": {},
     "output_type": "execute_result"
    }
   ],
   "source": [
    "val_analysis_df[41:].min()"
   ]
  },
  {
   "cell_type": "code",
   "execution_count": null,
   "metadata": {
    "collapsed": true
   },
   "outputs": [],
   "source": []
  }
 ],
 "metadata": {
  "kernelspec": {
   "display_name": "Python [conda3p5]",
   "language": "python",
   "name": "Python [conda3p5]"
  },
  "language_info": {
   "codemirror_mode": {
    "name": "ipython",
    "version": 3
   },
   "file_extension": ".py",
   "mimetype": "text/x-python",
   "name": "python",
   "nbconvert_exporter": "python",
   "pygments_lexer": "ipython3",
   "version": "3.5.3"
  }
 },
 "nbformat": 4,
 "nbformat_minor": 0
}
